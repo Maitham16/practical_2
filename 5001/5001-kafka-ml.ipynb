{
 "cells": [
  {
   "cell_type": "code",
   "execution_count": 6,
   "metadata": {},
   "outputs": [],
   "source": [
    "from influxdb import InfluxDBClient\n",
    "import pandas as pd\n",
    "import numpy as np\n",
    "from sklearn.model_selection import train_test_split\n",
    "from sklearn.preprocessing import MinMaxScaler\n",
    "import tensorflow as tf\n",
    "from tensorflow.keras.models import Sequential\n",
    "from tensorflow.keras.layers import Dense, LSTM, Dropout\n",
    "from tensorflow.keras.optimizers import Adam\n",
    "import joblib\n"
   ]
  },
  {
   "cell_type": "code",
   "execution_count": null,
   "metadata": {},
   "outputs": [],
   "source": [
    "influx_client = InfluxDBClient(host='localhost', port=8086, database='iot_s1')\n",
    "\n",
    "query = 'SELECT * FROM \"environment\"'\n",
    "result = influx_client.query(query)\n",
    "\n",
    "points = list(result.get_points())\n",
    "df = pd.DataFrame(points)\n",
    "\n",
    "print(df.head)"
   ]
  },
  {
   "cell_type": "code",
   "execution_count": null,
   "metadata": {},
   "outputs": [],
   "source": [
    "df.sort_values('time', inplace=True)\n",
    "\n",
    "N = 3\n",
    "\n",
    "features = []\n",
    "targets = []\n",
    "\n",
    "for i in range(N, len(df)):\n",
    "    features.append(df[['temperature', 'humidity']].iloc[i-N:i].values)\n",
    "    targets.append(df['temperature'].iloc[i])\n",
    "\n",
    "features = np.array(features)\n",
    "targets = np.array(targets)\n",
    "\n",
    "X_train, X_test, y_train, y_test = train_test_split(features, targets, test_size=0.2, random_state=42)\n",
    "\n",
    "scaler = MinMaxScaler(feature_range=(0, 1))\n",
    "n_samples, n_timesteps, n_features = X_train.shape\n",
    "\n",
    "X_train_flattened = X_train.reshape(n_samples * n_timesteps, n_features)\n",
    "X_train_scaled = scaler.fit_transform(X_train_flattened)\n",
    "X_train_scaled = X_train_scaled.reshape(n_samples, n_timesteps, n_features)\n",
    "\n",
    "X_test_flattened = X_test.reshape(X_test.shape[0] * n_timesteps, n_features)\n",
    "X_test_scaled = scaler.transform(X_test_flattened)\n",
    "X_test_scaled = X_test_scaled.reshape(X_test.shape[0], n_timesteps, n_features)\n",
    "\n",
    "joblib.dump(scaler, 'scaler_sq.pkl')\n",
    "\n",
    "model = Sequential([\n",
    "    LSTM(200, return_sequences=True, input_shape=(n_timesteps, n_features)),\n",
    "    Dropout(0.2),\n",
    "    LSTM(200, return_sequences=False),\n",
    "    Dropout(0.2),\n",
    "    Dense(1)\n",
    "])\n",
    "\n",
    "optimizer = Adam(learning_rate=0.00001)\n",
    "\n",
    "model.compile(optimizer='adam', loss='mean_squared_error')\n",
    "model.fit(X_train_scaled, y_train, epochs=200, batch_size=16, validation_data=(X_test_scaled, y_test))\n",
    "\n",
    "model.save('LSTM.h5')"
   ]
  },
  {
   "cell_type": "code",
   "execution_count": null,
   "metadata": {},
   "outputs": [],
   "source": [
    "# Evaluation\n",
    "from tensorflow.keras.models import load_model\n",
    "import numpy as np\n",
    "from sklearn.metrics import r2_score, mean_absolute_error, mean_squared_error\n",
    "\n",
    "model = load_model('LSTM.h5')\n",
    "\n",
    "y_pred = model.predict(X_test_scaled)\n",
    "\n",
    "mse = mean_squared_error(y_test, y_pred)\n",
    "\n",
    "rmse = np.sqrt(mse)\n",
    "\n",
    "mae = mean_absolute_error(y_test, y_pred)\n",
    "\n",
    "r2 = r2_score(y_test, y_pred)\n",
    "\n",
    "print(f'Mean Squared Error: {mse}')\n",
    "print(f'Root Mean Squared Error: {rmse}')\n",
    "print(f'Mean Absulote Error: {mae}')\n",
    "print(f'R^2 Score: {r2}')"
   ]
  },
  {
   "cell_type": "code",
   "execution_count": null,
   "metadata": {},
   "outputs": [],
   "source": [
    "# plotting the model\n",
    "import matplotlib.pyplot as plt\n",
    "\n",
    "plt.figure(figsize=(10, 6))\n",
    "plt.plot(y_train, label='True Value')\n",
    "plt.plot(y_pred, label='Predictions', linestyle='--')\n",
    "plt.title('Comparison of actual and predicted temperatures')\n",
    "plt.xlabel('Time Steps')\n",
    "plt.ylabel('Temperature')\n",
    "plt.legend()\n",
    "plt.show()"
   ]
  }
 ],
 "metadata": {
  "kernelspec": {
   "display_name": "Python 3 (ipykernel)",
   "language": "python",
   "name": "python3"
  },
  "language_info": {
   "codemirror_mode": {
    "name": "ipython",
    "version": 3
   },
   "file_extension": ".py",
   "mimetype": "text/x-python",
   "name": "python",
   "nbconvert_exporter": "python",
   "pygments_lexer": "ipython3",
   "version": "3.11.2"
  }
 },
 "nbformat": 4,
 "nbformat_minor": 2
}
